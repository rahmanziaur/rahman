{
  "nbformat": 4,
  "nbformat_minor": 0,
  "metadata": {
    "colab": {
      "provenance": [],
      "authorship_tag": "ABX9TyO8bfpIekSGPw7Du8J3hY8i",
      "include_colab_link": true
    },
    "kernelspec": {
      "name": "python3",
      "display_name": "Python 3"
    },
    "language_info": {
      "name": "python"
    }
  },
  "cells": [
    {
      "cell_type": "markdown",
      "metadata": {
        "id": "view-in-github",
        "colab_type": "text"
      },
      "source": [
        "<a href=\"https://colab.research.google.com/github/rahmanziaur/rahman/blob/master/Corelation_Sample.ipynb\" target=\"_parent\"><img src=\"https://colab.research.google.com/assets/colab-badge.svg\" alt=\"Open In Colab\"/></a>"
      ]
    },
    {
      "cell_type": "code",
      "execution_count": 2,
      "metadata": {
        "colab": {
          "base_uri": "https://localhost:8080/",
          "height": 269
        },
        "id": "QPes2norlTu1",
        "outputId": "87fc5f0b-13fc-4f56-cf43-e217b0093a7b"
      },
      "outputs": [
        {
          "output_type": "display_data",
          "data": {
            "text/plain": [
              "<Figure size 432x288 with 2 Axes>"
            ],
            "image/png": "[encoded data removed]"
          },
          "metadata": {
            "needs_background": "light"
          }
        }
      ],
      "source": [
        "import matplotlib.pyplot as plt\n",
        "import numpy as np\n",
        "import scipy.stats\n",
        "\n",
        "x = np.arange(10, 20)\n",
        "y = np.array([2, 1, 4, 5, 8, 12, 18, 25, 96, 48])\n",
        "z = np.array([5, 3, 2, 1, 0, -2, -8, -11, -15, -16])\n",
        "xyz = np.array([[10, 11, 12, 13, 14, 15, 16, 17, 18, 19],\n",
        "                [2, 1, 4, 5, 8, 12, 18, 25, 96, 48],\n",
        "                [5, 3, 2, 1, 0, -2, -8, -11, -15, -16]])\n",
        "\n",
        "corr_matrix = np.corrcoef(xyz).round(decimals=2)\n",
        "\n",
        "fig, ax = plt.subplots()\n",
        "im = ax.imshow(corr_matrix)\n",
        "im.set_clim(-1, 1)\n",
        "ax.grid(False)\n",
        "ax.xaxis.set(ticks=(0, 1, 2), ticklabels=('x', 'y', 'z'))\n",
        "ax.yaxis.set(ticks=(0, 1, 2), ticklabels=('x', 'y', 'z'))\n",
        "ax.set_ylim(2.5, -0.5)\n",
        "for i in range(3):\n",
        "    for j in range(3):\n",
        "        ax.text(j, i, corr_matrix[i, j], ha='center', va='center',\n",
        "                color='r')\n",
        "cbar = ax.figure.colorbar(im, ax=ax, format='% .2f')\n",
        "plt.show()\n"
      ]
    }
  ]
}