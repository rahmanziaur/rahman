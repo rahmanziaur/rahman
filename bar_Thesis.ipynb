{
  "nbformat": 4,
  "nbformat_minor": 0,
  "metadata": {
    "colab": {
      "provenance": [],
      "collapsed_sections": [],
      "authorship_tag": "ABX9TyPOPufrTBlYU3tSThRyDshy",
      "include_colab_link": true
    },
    "kernelspec": {
      "name": "python3",
      "display_name": "Python 3"
    }
  },
  "cells": [
    {
      "cell_type": "markdown",
      "metadata": {
        "id": "view-in-github",
        "colab_type": "text"
      },
      "source": [
        "<a href=\"https://colab.research.google.com/github/rahmanziaur/rahman/blob/master/bar_Thesis.ipynb\" target=\"_parent\"><img src=\"https://colab.research.google.com/assets/colab-badge.svg\" alt=\"Open In Colab\"/></a>"
      ]
    },
    {
      "cell_type": "code",
      "metadata": {
        "colab": {
          "base_uri": "https://localhost:8080/",
          "height": 310
        },
        "id": "W9HQJVsJ2kCl",
        "outputId": "acaeda5c-eecc-4d40-b9a1-8fcf1e9b764b"
      },
      "source": [
        "import pandas as pd\n",
        "import matplotlib\n",
        "import matplotlib.pyplot as plt\n",
        "import numpy as np\n",
        "\n",
        "df_read_tp  = pd.read_csv('https://raw.githubusercontent.com/rahmanziaur/rahman/master/read-tp2.csv')\n",
        "df_read_sr  = pd.read_csv('https://raw.githubusercontent.com/rahmanziaur/rahman/master/read-sr1.csv')\n",
        "\n",
        "df_write_tp = pd.read_csv('https://raw.githubusercontent.com/rahmanziaur/rahman/master/write-tp1.csv')\n",
        "df_write_sr = pd.read_csv('https://raw.githubusercontent.com/rahmanziaur/rahman/master/write-sr1.csv')\n",
        "\n",
        "df_read_del = pd.read_csv('https://raw.githubusercontent.com/rahmanziaur/rahman/master/read_delay.csv')\n",
        "df_write_del = pd.read_csv('https://raw.githubusercontent.com/rahmanziaur/rahman/master/write-del.csv')\n",
        "\n",
        "read_label = df_read_tp['Nodes']\n",
        "read_tp    = df_read_tp['Throughput']\n",
        "write_tp   = df_write_tp['Throughput']\n",
        "\n",
        "read_sr = df_read_sr['S_Rate']\n",
        "write_sr = df_write_sr['S_Rate']\n",
        "\n",
        "read_del = df_read_del['Delays']\n",
        "write_del = df_write_del['Delays']\n",
        "\n",
        "\n",
        "#labels = ['G1', 'G2', 'G3', 'G4', 'G5']\n",
        "#men_means = [20, 34, 30, 35, 27]\n",
        "#women_means = [25, 32, 34, 20, 25]\n",
        "\n",
        "x = np.arange(len(read_label))  # the label locations\n",
        "width = 0.35  # the width of the bars\n",
        "\n",
        "#fig = plt.figure(figsize=(18,50))\n",
        "\n",
        "# fig = matplotlib.pyplot.gcf()\n",
        "# fig.set_size_inches(16, 10)\n",
        "\n",
        "fig, ax = plt.subplots(nrows=1, ncols=3)\n",
        "\n",
        "rects1 = ax[0].bar(x - width/2, read_tp, width, label='Read', color='#3399FF')\n",
        "rects2 = ax[0].bar(x + width/2, write_tp, width, label='Write', color='#0033CC')\n",
        "\n",
        "rects3 = ax[1].bar(x - width/2, read_sr, width, label='Read', color='#9999FF')\n",
        "rects4 = ax[1].bar(x + width/2, write_sr, width, label='Write', color='#4C0099')\n",
        "\n",
        "rects5 = ax[2].bar(x - width/2, read_del, width, label='Read', color='#003300')\n",
        "rects6 = ax[2].bar(x + width/2, write_del, width, label='Write', color='#97D077')\n",
        "\n",
        "# Add some text for labels, title and custom x-axis tick labels, etc.\n",
        "#ax[0].set_ylabel('Throughput (Tx/s)')\n",
        "ax[0].text(8.5, 290, 'Throughput (Tx/s)', va='center', rotation='vertical')\n",
        "ax[0].text(6.5, 390, '(a)', ha='center')\n",
        "\n",
        "#ax[0].set_xlabel('No. of Nodes')\n",
        "#ax.set_title('Scores by group and gender')\n",
        "#ax[0].set_xticks(x)\n",
        "ax[0].set_xticklabels(read_label)\n",
        "ax[0].legend()\n",
        "\n",
        "#ax[1].set_ylabel('Success rate (%)')\n",
        "ax[1].text(8.5, 6, 'Success rate (%)', va='center', rotation='vertical')\n",
        "ax[1].text(6.5, 8.1, '(b)', ha='center')\n",
        "#ax[1].set_xlabel('No. of Nodes')\n",
        "#ax.set_title('Scores by group and gender')\n",
        "#ax[1].set_xticks(x)\n",
        "ax[1].set_xticklabels(read_label)\n",
        "ax[1].legend()\n",
        "\n",
        "#ax[2].set_ylabel('Delays (s)')\n",
        "ax[2].text(.005, 5.4, 'Delays (s)', va='center', rotation='vertical')\n",
        "ax[2].text(3, 8.3, '(c)', ha='center')\n",
        "#ax[2].set_xlabel('No. of Nodes')\n",
        "#ax.set_title('Scores by group and gender')\n",
        "#ax[1].set_xticks(x)\n",
        "ax[2].set_xticklabels(read_label)\n",
        "ax[2].legend()\n",
        "\n",
        "\n",
        "#autolabel(rects1)\n",
        "#autolabel(rects2)\n",
        "\n",
        "fig.tight_layout()\n",
        "fig.text(0.5, 0.001, 'Number of Workload (Tx/s)', ha='center')\n",
        "#fig.text(.3, .07, 'common Y', va='center', rotation='vertical')\n",
        "\n",
        "fig.savefig('f6.pdf')\n",
        "#plt.figure(figsize=(3,10))\n",
        "plt.show()\n",
        "\n",
        "\n"
      ],
      "execution_count": 1,
      "outputs": [
        {
          "output_type": "display_data",
          "data": {
            "text/plain": [
              "<Figure size 432x288 with 3 Axes>"
            ],
            "image/png": "[encoded data removed]"
          },
          "metadata": {
            "needs_background": "light"
          }
        }
      ]
    }
  ]
}